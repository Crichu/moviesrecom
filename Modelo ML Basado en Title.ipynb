{
 "cells": [
  {
   "attachments": {},
   "cell_type": "markdown",
   "metadata": {},
   "source": [
    "****MODELO PARA RECOMENDACIÓN DE PELÍCULAS****\n",
    "\n",
    "En este notebook se creará un modelo para recomendación de películas basada en contenido.\n",
    "\n",
    "El usuario deberá ingresar el título de una película.\n",
    "\n",
    "El modelo devolverá 5 películas similares.\n",
    "\n",
    "Basado en las conclusiones a las que llegué en el EDA, voy a construir un modelo basado en contenido, teniendo en cuenta el overview de las películas. El retorno serán 5 películas similares ordenadas por popularidad de mayor a menor. \n",
    "\n",
    "El modelo de KNN se contruirá calificando los ítems de acuerdo a similitud de cosenos."
   ]
  },
  {
   "cell_type": "code",
   "execution_count": 1,
   "metadata": {},
   "outputs": [],
   "source": [
    "import pandas as pd\n",
    "#import matplotlib.pyplot as plt\n",
    "import seaborn as sns\n",
    "#from wordcloud import WordCloud, STOPWORDS\n",
    "import numpy as np\n",
    "#from pandas.io.json import json_normalize\n",
    "#import ast\n",
    "#import json\n",
    "from sklearn.feature_extraction.text import TfidfVectorizer\n",
    "from sklearn.metrics.pairwise import cosine_similarity\n",
    "from sklearn.neighbors import NearestNeighbors\n",
    "\n",
    "\n",
    "\n",
    "sns.set()"
   ]
  },
  {
   "attachments": {},
   "cell_type": "markdown",
   "metadata": {},
   "source": [
    "**Paso 1: Preparación de los datos**"
   ]
  },
  {
   "cell_type": "code",
   "execution_count": 2,
   "metadata": {},
   "outputs": [
    {
     "data": {
      "text/html": [
       "<div>\n",
       "<style scoped>\n",
       "    .dataframe tbody tr th:only-of-type {\n",
       "        vertical-align: middle;\n",
       "    }\n",
       "\n",
       "    .dataframe tbody tr th {\n",
       "        vertical-align: top;\n",
       "    }\n",
       "\n",
       "    .dataframe thead th {\n",
       "        text-align: right;\n",
       "    }\n",
       "</style>\n",
       "<table border=\"1\" class=\"dataframe\">\n",
       "  <thead>\n",
       "    <tr style=\"text-align: right;\">\n",
       "      <th></th>\n",
       "      <th>genres</th>\n",
       "      <th>overview</th>\n",
       "      <th>popularity</th>\n",
       "      <th>title</th>\n",
       "    </tr>\n",
       "  </thead>\n",
       "  <tbody>\n",
       "    <tr>\n",
       "      <th>0</th>\n",
       "      <td>['Animation', 'Comedy', 'Family']</td>\n",
       "      <td>Led by Woody, Andy's toys live happily in his ...</td>\n",
       "      <td>21.946943</td>\n",
       "      <td>Toy Story</td>\n",
       "    </tr>\n",
       "    <tr>\n",
       "      <th>1</th>\n",
       "      <td>['Adventure', 'Fantasy', 'Family']</td>\n",
       "      <td>When siblings Judy and Peter discover an encha...</td>\n",
       "      <td>17.015539</td>\n",
       "      <td>Jumanji</td>\n",
       "    </tr>\n",
       "    <tr>\n",
       "      <th>2</th>\n",
       "      <td>['Romance', 'Comedy']</td>\n",
       "      <td>A family wedding reignites the ancient feud be...</td>\n",
       "      <td>11.712900</td>\n",
       "      <td>Grumpier Old Men</td>\n",
       "    </tr>\n",
       "    <tr>\n",
       "      <th>3</th>\n",
       "      <td>['Comedy', 'Drama', 'Romance']</td>\n",
       "      <td>Cheated on, mistreated and stepped on, the wom...</td>\n",
       "      <td>3.859495</td>\n",
       "      <td>Waiting to Exhale</td>\n",
       "    </tr>\n",
       "    <tr>\n",
       "      <th>4</th>\n",
       "      <td>['Comedy']</td>\n",
       "      <td>Just when George Banks has recovered from his ...</td>\n",
       "      <td>8.387519</td>\n",
       "      <td>Father of the Bride Part II</td>\n",
       "    </tr>\n",
       "  </tbody>\n",
       "</table>\n",
       "</div>"
      ],
      "text/plain": [
       "                               genres  \\\n",
       "0   ['Animation', 'Comedy', 'Family']   \n",
       "1  ['Adventure', 'Fantasy', 'Family']   \n",
       "2               ['Romance', 'Comedy']   \n",
       "3      ['Comedy', 'Drama', 'Romance']   \n",
       "4                          ['Comedy']   \n",
       "\n",
       "                                            overview  popularity  \\\n",
       "0  Led by Woody, Andy's toys live happily in his ...   21.946943   \n",
       "1  When siblings Judy and Peter discover an encha...   17.015539   \n",
       "2  A family wedding reignites the ancient feud be...   11.712900   \n",
       "3  Cheated on, mistreated and stepped on, the wom...    3.859495   \n",
       "4  Just when George Banks has recovered from his ...    8.387519   \n",
       "\n",
       "                         title  \n",
       "0                    Toy Story  \n",
       "1                      Jumanji  \n",
       "2             Grumpier Old Men  \n",
       "3            Waiting to Exhale  \n",
       "4  Father of the Bride Part II  "
      ]
     },
     "execution_count": 2,
     "metadata": {},
     "output_type": "execute_result"
    }
   ],
   "source": [
    "movies = pd.read_csv('Movies ETL.csv',usecols= ['title', 'genres', 'overview', 'popularity'], sep=',')\n",
    "movies.head()"
   ]
  },
  {
   "cell_type": "code",
   "execution_count": 3,
   "metadata": {},
   "outputs": [],
   "source": [
    "# Relleno los valores nulos en 'overview' con una cadena vacía\n",
    "movies['title'] = movies['title'].fillna('')"
   ]
  },
  {
   "attachments": {},
   "cell_type": "markdown",
   "metadata": {},
   "source": [
    "Voy a reducir el tamaño de la matriz por limitaciones en la capacidad de procesamiento de mi equipo."
   ]
  },
  {
   "cell_type": "code",
   "execution_count": 4,
   "metadata": {},
   "outputs": [],
   "source": [
    "muestra = 10000\n",
    "muestra_index = np.random.choice(range(len(movies)), size=muestra, replace=False)\n"
   ]
  },
  {
   "cell_type": "code",
   "execution_count": 5,
   "metadata": {},
   "outputs": [
    {
     "data": {
      "text/plain": [
       "(10000, 4)"
      ]
     },
     "execution_count": 5,
     "metadata": {},
     "output_type": "execute_result"
    }
   ],
   "source": [
    "movies_muestra = movies.iloc[muestra_index]\n",
    "movies_muestra = movies_muestra.reset_index(drop=True)\n",
    "movies_muestra.shape"
   ]
  },
  {
   "cell_type": "code",
   "execution_count": 18,
   "metadata": {},
   "outputs": [
    {
     "data": {
      "text/html": [
       "<div>\n",
       "<style scoped>\n",
       "    .dataframe tbody tr th:only-of-type {\n",
       "        vertical-align: middle;\n",
       "    }\n",
       "\n",
       "    .dataframe tbody tr th {\n",
       "        vertical-align: top;\n",
       "    }\n",
       "\n",
       "    .dataframe thead th {\n",
       "        text-align: right;\n",
       "    }\n",
       "</style>\n",
       "<table border=\"1\" class=\"dataframe\">\n",
       "  <thead>\n",
       "    <tr style=\"text-align: right;\">\n",
       "      <th></th>\n",
       "      <th>genres</th>\n",
       "      <th>overview</th>\n",
       "      <th>popularity</th>\n",
       "      <th>title</th>\n",
       "    </tr>\n",
       "  </thead>\n",
       "  <tbody>\n",
       "    <tr>\n",
       "      <th>9980</th>\n",
       "      <td>['TV Movie', 'Drama', 'Science Fiction']</td>\n",
       "      <td>A Scottish chaplain embarks on an epic journey...</td>\n",
       "      <td>0.353742</td>\n",
       "      <td>Oasis</td>\n",
       "    </tr>\n",
       "    <tr>\n",
       "      <th>9981</th>\n",
       "      <td>['Action', 'Comedy', 'Thriller']</td>\n",
       "      <td>Two bickering mercenaries are hired by the CIA...</td>\n",
       "      <td>1.199005</td>\n",
       "      <td>Fifty/Fifty</td>\n",
       "    </tr>\n",
       "    <tr>\n",
       "      <th>9982</th>\n",
       "      <td>['Action', 'Comedy', 'Romance']</td>\n",
       "      <td>A girl falls for the \"perfect\" guy, who happen...</td>\n",
       "      <td>7.317816</td>\n",
       "      <td>Mr. Right</td>\n",
       "    </tr>\n",
       "    <tr>\n",
       "      <th>9983</th>\n",
       "      <td>['Comedy']</td>\n",
       "      <td>A shy, introverted young girl takes a summer j...</td>\n",
       "      <td>0.122181</td>\n",
       "      <td>Experience Preferred...But Not Essential</td>\n",
       "    </tr>\n",
       "    <tr>\n",
       "      <th>9984</th>\n",
       "      <td>['Romance', 'Drama']</td>\n",
       "      <td>Divya, a woman grieving over the death of her ...</td>\n",
       "      <td>0.437959</td>\n",
       "      <td>Mouna Raagam</td>\n",
       "    </tr>\n",
       "    <tr>\n",
       "      <th>9985</th>\n",
       "      <td>['Mystery', 'Horror']</td>\n",
       "      <td>A housewife is frequently left alone by her hu...</td>\n",
       "      <td>0.352005</td>\n",
       "      <td>Glass Ceiling</td>\n",
       "    </tr>\n",
       "    <tr>\n",
       "      <th>9986</th>\n",
       "      <td>[]</td>\n",
       "      <td>A static camera observes a room as it slowly f...</td>\n",
       "      <td>0.000001</td>\n",
       "      <td>Tango</td>\n",
       "    </tr>\n",
       "    <tr>\n",
       "      <th>9987</th>\n",
       "      <td>['Adventure', 'Comedy', 'Crime']</td>\n",
       "      <td>All the passengers on an airplane headed for S...</td>\n",
       "      <td>0.267863</td>\n",
       "      <td>The Sky Dragon</td>\n",
       "    </tr>\n",
       "    <tr>\n",
       "      <th>9988</th>\n",
       "      <td>['Crime']</td>\n",
       "      <td>Three teens get into the drug business when th...</td>\n",
       "      <td>0.047829</td>\n",
       "      <td>Stakeout on Dope Street</td>\n",
       "    </tr>\n",
       "    <tr>\n",
       "      <th>9989</th>\n",
       "      <td>['Action', 'Adventure', 'Western']</td>\n",
       "      <td>The clerk at the train station is assaulted an...</td>\n",
       "      <td>4.248169</td>\n",
       "      <td>The Great Train Robbery</td>\n",
       "    </tr>\n",
       "    <tr>\n",
       "      <th>9990</th>\n",
       "      <td>['Horror']</td>\n",
       "      <td>Edward is a friendly, harmless film cutter on ...</td>\n",
       "      <td>1.639050</td>\n",
       "      <td>Evil Ed</td>\n",
       "    </tr>\n",
       "    <tr>\n",
       "      <th>9991</th>\n",
       "      <td>['Drama', 'History']</td>\n",
       "      <td>The story of the ascension to the throne and t...</td>\n",
       "      <td>7.566321</td>\n",
       "      <td>Elizabeth</td>\n",
       "    </tr>\n",
       "    <tr>\n",
       "      <th>9992</th>\n",
       "      <td>['Drama']</td>\n",
       "      <td>Coming-of-age adventure about two teenage brot...</td>\n",
       "      <td>5.540117</td>\n",
       "      <td>Tex</td>\n",
       "    </tr>\n",
       "    <tr>\n",
       "      <th>9993</th>\n",
       "      <td>['Comedy', 'Horror']</td>\n",
       "      <td>After being captured and tortured by the psych...</td>\n",
       "      <td>2.467542</td>\n",
       "      <td>Otis</td>\n",
       "    </tr>\n",
       "    <tr>\n",
       "      <th>9994</th>\n",
       "      <td>['Drama', 'Mystery']</td>\n",
       "      <td>A prep-school student (Ezra Miller) accidental...</td>\n",
       "      <td>2.270350</td>\n",
       "      <td>Afterschool</td>\n",
       "    </tr>\n",
       "    <tr>\n",
       "      <th>9995</th>\n",
       "      <td>['Drama', 'Thriller']</td>\n",
       "      <td>At the close of 1973, Franco is still governin...</td>\n",
       "      <td>1.071094</td>\n",
       "      <td>Operación Ogro</td>\n",
       "    </tr>\n",
       "    <tr>\n",
       "      <th>9996</th>\n",
       "      <td>['Horror', 'Music']</td>\n",
       "      <td>A crazed rock singer returns from the dead to ...</td>\n",
       "      <td>0.000308</td>\n",
       "      <td>Rocktober Blood</td>\n",
       "    </tr>\n",
       "    <tr>\n",
       "      <th>9997</th>\n",
       "      <td>['Drama']</td>\n",
       "      <td>Vanessa gets a dose of reality when Philip, he...</td>\n",
       "      <td>0.619795</td>\n",
       "      <td>Dear Lemon Lima</td>\n",
       "    </tr>\n",
       "    <tr>\n",
       "      <th>9998</th>\n",
       "      <td>[]</td>\n",
       "      <td>German filmmaker Rainer Werner Fassbinder dire...</td>\n",
       "      <td>0.058285</td>\n",
       "      <td>Pioneers in Ingolstadt</td>\n",
       "    </tr>\n",
       "    <tr>\n",
       "      <th>9999</th>\n",
       "      <td>['Documentary', 'Comedy']</td>\n",
       "      <td>Through unprecedented backstage access and can...</td>\n",
       "      <td>1.051781</td>\n",
       "      <td>I Am Comic</td>\n",
       "    </tr>\n",
       "  </tbody>\n",
       "</table>\n",
       "</div>"
      ],
      "text/plain": [
       "                                        genres  \\\n",
       "9980  ['TV Movie', 'Drama', 'Science Fiction']   \n",
       "9981          ['Action', 'Comedy', 'Thriller']   \n",
       "9982           ['Action', 'Comedy', 'Romance']   \n",
       "9983                                ['Comedy']   \n",
       "9984                      ['Romance', 'Drama']   \n",
       "9985                     ['Mystery', 'Horror']   \n",
       "9986                                        []   \n",
       "9987          ['Adventure', 'Comedy', 'Crime']   \n",
       "9988                                 ['Crime']   \n",
       "9989        ['Action', 'Adventure', 'Western']   \n",
       "9990                                ['Horror']   \n",
       "9991                      ['Drama', 'History']   \n",
       "9992                                 ['Drama']   \n",
       "9993                      ['Comedy', 'Horror']   \n",
       "9994                      ['Drama', 'Mystery']   \n",
       "9995                     ['Drama', 'Thriller']   \n",
       "9996                       ['Horror', 'Music']   \n",
       "9997                                 ['Drama']   \n",
       "9998                                        []   \n",
       "9999                 ['Documentary', 'Comedy']   \n",
       "\n",
       "                                               overview  popularity  \\\n",
       "9980  A Scottish chaplain embarks on an epic journey...    0.353742   \n",
       "9981  Two bickering mercenaries are hired by the CIA...    1.199005   \n",
       "9982  A girl falls for the \"perfect\" guy, who happen...    7.317816   \n",
       "9983  A shy, introverted young girl takes a summer j...    0.122181   \n",
       "9984  Divya, a woman grieving over the death of her ...    0.437959   \n",
       "9985  A housewife is frequently left alone by her hu...    0.352005   \n",
       "9986  A static camera observes a room as it slowly f...    0.000001   \n",
       "9987  All the passengers on an airplane headed for S...    0.267863   \n",
       "9988  Three teens get into the drug business when th...    0.047829   \n",
       "9989  The clerk at the train station is assaulted an...    4.248169   \n",
       "9990  Edward is a friendly, harmless film cutter on ...    1.639050   \n",
       "9991  The story of the ascension to the throne and t...    7.566321   \n",
       "9992  Coming-of-age adventure about two teenage brot...    5.540117   \n",
       "9993  After being captured and tortured by the psych...    2.467542   \n",
       "9994  A prep-school student (Ezra Miller) accidental...    2.270350   \n",
       "9995  At the close of 1973, Franco is still governin...    1.071094   \n",
       "9996  A crazed rock singer returns from the dead to ...    0.000308   \n",
       "9997  Vanessa gets a dose of reality when Philip, he...    0.619795   \n",
       "9998  German filmmaker Rainer Werner Fassbinder dire...    0.058285   \n",
       "9999  Through unprecedented backstage access and can...    1.051781   \n",
       "\n",
       "                                         title  \n",
       "9980                                     Oasis  \n",
       "9981                               Fifty/Fifty  \n",
       "9982                                 Mr. Right  \n",
       "9983  Experience Preferred...But Not Essential  \n",
       "9984                              Mouna Raagam  \n",
       "9985                             Glass Ceiling  \n",
       "9986                                     Tango  \n",
       "9987                            The Sky Dragon  \n",
       "9988                   Stakeout on Dope Street  \n",
       "9989                   The Great Train Robbery  \n",
       "9990                                   Evil Ed  \n",
       "9991                                 Elizabeth  \n",
       "9992                                       Tex  \n",
       "9993                                      Otis  \n",
       "9994                               Afterschool  \n",
       "9995                            Operación Ogro  \n",
       "9996                           Rocktober Blood  \n",
       "9997                           Dear Lemon Lima  \n",
       "9998                    Pioneers in Ingolstadt  \n",
       "9999                                I Am Comic  "
      ]
     },
     "execution_count": 18,
     "metadata": {},
     "output_type": "execute_result"
    }
   ],
   "source": [
    "movies_muestra.tail(20)"
   ]
  },
  {
   "attachments": {},
   "cell_type": "markdown",
   "metadata": {},
   "source": [
    "**Paso 2: Vectorización del texto**"
   ]
  },
  {
   "cell_type": "code",
   "execution_count": 10,
   "metadata": {},
   "outputs": [],
   "source": [
    "tfidf = TfidfVectorizer(stop_words='english')\n",
    "title_matrix = tfidf.fit_transform(movies_muestra['title'])"
   ]
  },
  {
   "cell_type": "code",
   "execution_count": 11,
   "metadata": {},
   "outputs": [
    {
     "data": {
      "text/plain": [
       "(10000, 8682)"
      ]
     },
     "execution_count": 11,
     "metadata": {},
     "output_type": "execute_result"
    }
   ],
   "source": [
    "title_matrix.shape"
   ]
  },
  {
   "attachments": {},
   "cell_type": "markdown",
   "metadata": {},
   "source": [
    "**Paso 3: Cálculo de la similitud**"
   ]
  },
  {
   "cell_type": "code",
   "execution_count": 12,
   "metadata": {},
   "outputs": [],
   "source": [
    "similarity_matrix = cosine_similarity(title_matrix)"
   ]
  },
  {
   "attachments": {},
   "cell_type": "markdown",
   "metadata": {},
   "source": [
    "**Paso 4: Construcción del modelo 1: KNN**"
   ]
  },
  {
   "attachments": {},
   "cell_type": "markdown",
   "metadata": {},
   "source": [
    "Voy a usar KNN con K=10"
   ]
  },
  {
   "cell_type": "code",
   "execution_count": 13,
   "metadata": {},
   "outputs": [
    {
     "data": {
      "text/html": [
       "<style>#sk-container-id-1 {color: black;background-color: white;}#sk-container-id-1 pre{padding: 0;}#sk-container-id-1 div.sk-toggleable {background-color: white;}#sk-container-id-1 label.sk-toggleable__label {cursor: pointer;display: block;width: 100%;margin-bottom: 0;padding: 0.3em;box-sizing: border-box;text-align: center;}#sk-container-id-1 label.sk-toggleable__label-arrow:before {content: \"▸\";float: left;margin-right: 0.25em;color: #696969;}#sk-container-id-1 label.sk-toggleable__label-arrow:hover:before {color: black;}#sk-container-id-1 div.sk-estimator:hover label.sk-toggleable__label-arrow:before {color: black;}#sk-container-id-1 div.sk-toggleable__content {max-height: 0;max-width: 0;overflow: hidden;text-align: left;background-color: #f0f8ff;}#sk-container-id-1 div.sk-toggleable__content pre {margin: 0.2em;color: black;border-radius: 0.25em;background-color: #f0f8ff;}#sk-container-id-1 input.sk-toggleable__control:checked~div.sk-toggleable__content {max-height: 200px;max-width: 100%;overflow: auto;}#sk-container-id-1 input.sk-toggleable__control:checked~label.sk-toggleable__label-arrow:before {content: \"▾\";}#sk-container-id-1 div.sk-estimator input.sk-toggleable__control:checked~label.sk-toggleable__label {background-color: #d4ebff;}#sk-container-id-1 div.sk-label input.sk-toggleable__control:checked~label.sk-toggleable__label {background-color: #d4ebff;}#sk-container-id-1 input.sk-hidden--visually {border: 0;clip: rect(1px 1px 1px 1px);clip: rect(1px, 1px, 1px, 1px);height: 1px;margin: -1px;overflow: hidden;padding: 0;position: absolute;width: 1px;}#sk-container-id-1 div.sk-estimator {font-family: monospace;background-color: #f0f8ff;border: 1px dotted black;border-radius: 0.25em;box-sizing: border-box;margin-bottom: 0.5em;}#sk-container-id-1 div.sk-estimator:hover {background-color: #d4ebff;}#sk-container-id-1 div.sk-parallel-item::after {content: \"\";width: 100%;border-bottom: 1px solid gray;flex-grow: 1;}#sk-container-id-1 div.sk-label:hover label.sk-toggleable__label {background-color: #d4ebff;}#sk-container-id-1 div.sk-serial::before {content: \"\";position: absolute;border-left: 1px solid gray;box-sizing: border-box;top: 0;bottom: 0;left: 50%;z-index: 0;}#sk-container-id-1 div.sk-serial {display: flex;flex-direction: column;align-items: center;background-color: white;padding-right: 0.2em;padding-left: 0.2em;position: relative;}#sk-container-id-1 div.sk-item {position: relative;z-index: 1;}#sk-container-id-1 div.sk-parallel {display: flex;align-items: stretch;justify-content: center;background-color: white;position: relative;}#sk-container-id-1 div.sk-item::before, #sk-container-id-1 div.sk-parallel-item::before {content: \"\";position: absolute;border-left: 1px solid gray;box-sizing: border-box;top: 0;bottom: 0;left: 50%;z-index: -1;}#sk-container-id-1 div.sk-parallel-item {display: flex;flex-direction: column;z-index: 1;position: relative;background-color: white;}#sk-container-id-1 div.sk-parallel-item:first-child::after {align-self: flex-end;width: 50%;}#sk-container-id-1 div.sk-parallel-item:last-child::after {align-self: flex-start;width: 50%;}#sk-container-id-1 div.sk-parallel-item:only-child::after {width: 0;}#sk-container-id-1 div.sk-dashed-wrapped {border: 1px dashed gray;margin: 0 0.4em 0.5em 0.4em;box-sizing: border-box;padding-bottom: 0.4em;background-color: white;}#sk-container-id-1 div.sk-label label {font-family: monospace;font-weight: bold;display: inline-block;line-height: 1.2em;}#sk-container-id-1 div.sk-label-container {text-align: center;}#sk-container-id-1 div.sk-container {/* jupyter's `normalize.less` sets `[hidden] { display: none; }` but bootstrap.min.css set `[hidden] { display: none !important; }` so we also need the `!important` here to be able to override the default hidden behavior on the sphinx rendered scikit-learn.org. See: https://github.com/scikit-learn/scikit-learn/issues/21755 */display: inline-block !important;position: relative;}#sk-container-id-1 div.sk-text-repr-fallback {display: none;}</style><div id=\"sk-container-id-1\" class=\"sk-top-container\"><div class=\"sk-text-repr-fallback\"><pre>NearestNeighbors(algorithm=&#x27;brute&#x27;, metric=&#x27;cosine&#x27;)</pre><b>In a Jupyter environment, please rerun this cell to show the HTML representation or trust the notebook. <br />On GitHub, the HTML representation is unable to render, please try loading this page with nbviewer.org.</b></div><div class=\"sk-container\" hidden><div class=\"sk-item\"><div class=\"sk-estimator sk-toggleable\"><input class=\"sk-toggleable__control sk-hidden--visually\" id=\"sk-estimator-id-1\" type=\"checkbox\" checked><label for=\"sk-estimator-id-1\" class=\"sk-toggleable__label sk-toggleable__label-arrow\">NearestNeighbors</label><div class=\"sk-toggleable__content\"><pre>NearestNeighbors(algorithm=&#x27;brute&#x27;, metric=&#x27;cosine&#x27;)</pre></div></div></div></div></div>"
      ],
      "text/plain": [
       "NearestNeighbors(algorithm='brute', metric='cosine')"
      ]
     },
     "execution_count": 13,
     "metadata": {},
     "output_type": "execute_result"
    }
   ],
   "source": [
    "k = 5\n",
    "model = NearestNeighbors(metric='cosine', algorithm='brute')\n",
    "model.fit(title_matrix)\n"
   ]
  },
  {
   "attachments": {},
   "cell_type": "markdown",
   "metadata": {},
   "source": [
    "**Paso 5: Función de Recomendación**"
   ]
  },
  {
   "cell_type": "code",
   "execution_count": 14,
   "metadata": {},
   "outputs": [],
   "source": [
    "def recomendacion(titulo):\n",
    "    movie_index = movies_muestra[movies_muestra['title'] == titulo].index[0]\n",
    "    distancias, indices = model.kneighbors(title_matrix[movie_index], n_neighbors=k+1)\n",
    "    similar_movies = sorted(list(zip(indices.squeeze().tolist(), distancias.squeeze().tolist())), key=lambda x: x[1])[:0:-1]\n",
    "    similar_movie_indices = [i[0] for i in similar_movies]\n",
    "\n",
    "    recommended_movies = movies_muestra.iloc[similar_movie_indices][['title', 'genres', 'overview', 'popularity']]\n",
    "    \n",
    "    recommended_movies = recommended_movies.sort_values(by='popularity', ascending=False)  # Ordenar por popularidad descendente\n",
    "\n",
    "    return recommended_movies\n"
   ]
  },
  {
   "cell_type": "code",
   "execution_count": 19,
   "metadata": {},
   "outputs": [
    {
     "data": {
      "text/html": [
       "<div>\n",
       "<style scoped>\n",
       "    .dataframe tbody tr th:only-of-type {\n",
       "        vertical-align: middle;\n",
       "    }\n",
       "\n",
       "    .dataframe tbody tr th {\n",
       "        vertical-align: top;\n",
       "    }\n",
       "\n",
       "    .dataframe thead th {\n",
       "        text-align: right;\n",
       "    }\n",
       "</style>\n",
       "<table border=\"1\" class=\"dataframe\">\n",
       "  <thead>\n",
       "    <tr style=\"text-align: right;\">\n",
       "      <th></th>\n",
       "      <th>title</th>\n",
       "      <th>genres</th>\n",
       "      <th>overview</th>\n",
       "      <th>popularity</th>\n",
       "    </tr>\n",
       "  </thead>\n",
       "  <tbody>\n",
       "    <tr>\n",
       "      <th>6665</th>\n",
       "      <td>Reality</td>\n",
       "      <td>['Drama', 'Comedy']</td>\n",
       "      <td>A dark comedy centering on the lives of a Neap...</td>\n",
       "      <td>2.890778</td>\n",
       "    </tr>\n",
       "    <tr>\n",
       "      <th>6667</th>\n",
       "      <td>Goya in Bordeaux</td>\n",
       "      <td>['Drama', 'War']</td>\n",
       "      <td>Francisco Goya (1746-1828), deaf and ill, live...</td>\n",
       "      <td>1.300405</td>\n",
       "    </tr>\n",
       "    <tr>\n",
       "      <th>6668</th>\n",
       "      <td>Promise</td>\n",
       "      <td>['War', 'Drama']</td>\n",
       "      <td>The film tells about members of Finnish women'...</td>\n",
       "      <td>0.368474</td>\n",
       "    </tr>\n",
       "    <tr>\n",
       "      <th>6670</th>\n",
       "      <td>Fresh</td>\n",
       "      <td>['Documentary']</td>\n",
       "      <td>FRESH is more than a movie, it’s a gateway to ...</td>\n",
       "      <td>0.086169</td>\n",
       "    </tr>\n",
       "    <tr>\n",
       "      <th>6666</th>\n",
       "      <td>VeggieTales: Josh and the Big Wall</td>\n",
       "      <td>['Family', 'Animation']</td>\n",
       "      <td>A lesson in obedience, it's the Bible story of...</td>\n",
       "      <td>0.072020</td>\n",
       "    </tr>\n",
       "  </tbody>\n",
       "</table>\n",
       "</div>"
      ],
      "text/plain": [
       "                                   title                   genres  \\\n",
       "6665                             Reality      ['Drama', 'Comedy']   \n",
       "6667                    Goya in Bordeaux         ['Drama', 'War']   \n",
       "6668                             Promise         ['War', 'Drama']   \n",
       "6670                               Fresh          ['Documentary']   \n",
       "6666  VeggieTales: Josh and the Big Wall  ['Family', 'Animation']   \n",
       "\n",
       "                                               overview  popularity  \n",
       "6665  A dark comedy centering on the lives of a Neap...    2.890778  \n",
       "6667  Francisco Goya (1746-1828), deaf and ill, live...    1.300405  \n",
       "6668  The film tells about members of Finnish women'...    0.368474  \n",
       "6670  FRESH is more than a movie, it’s a gateway to ...    0.086169  \n",
       "6666  A lesson in obedience, it's the Bible story of...    0.072020  "
      ]
     },
     "execution_count": 19,
     "metadata": {},
     "output_type": "execute_result"
    }
   ],
   "source": [
    "recomendacion('Elizabeth')"
   ]
  }
 ],
 "metadata": {
  "kernelspec": {
   "display_name": "Python 3",
   "language": "python",
   "name": "python3"
  },
  "language_info": {
   "codemirror_mode": {
    "name": "ipython",
    "version": 3
   },
   "file_extension": ".py",
   "mimetype": "text/x-python",
   "name": "python",
   "nbconvert_exporter": "python",
   "pygments_lexer": "ipython3",
   "version": "3.11.2"
  },
  "orig_nbformat": 4
 },
 "nbformat": 4,
 "nbformat_minor": 2
}
