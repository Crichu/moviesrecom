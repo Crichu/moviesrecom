{
 "cells": [
  {
   "cell_type": "code",
   "execution_count": 86,
   "metadata": {},
   "outputs": [
    {
     "data": {
      "text/plain": [
       "'es_ES.utf8'"
      ]
     },
     "execution_count": 86,
     "metadata": {},
     "output_type": "execute_result"
    }
   ],
   "source": [
    "import pandas as pd\n",
    "#import matplotlib.pyplot as plt\n",
    "#import seaborn as sns\n",
    "import numpy as np\n",
    "#sns.set()\n",
    "#import json\n",
    "#import ast\n",
    "#from pandas.io.json import json_normalize\n",
    "#import calendar\n",
    "#import unix\n",
    "import locale\n",
    "locale.setlocale(locale.LC_ALL, 'es_ES.utf8')"
   ]
  },
  {
   "cell_type": "code",
   "execution_count": 87,
   "metadata": {},
   "outputs": [],
   "source": [
    "movies = pd.read_csv('Movies ETL.csv', sep=',')\n",
    "credits = pd.read_csv('Credits ETL.csv', sep=',')\n",
    "cast = pd.read_csv('Cast.csv', sep=',')\n",
    "director = pd.read_csv('Director.csv', sep=',')"
   ]
  },
  {
   "cell_type": "code",
   "execution_count": 88,
   "metadata": {},
   "outputs": [
    {
     "name": "stdout",
     "output_type": "stream",
     "text": [
      "<class 'pandas.core.frame.DataFrame'>\n",
      "RangeIndex: 45376 entries, 0 to 45375\n",
      "Data columns (total 21 columns):\n",
      " #   Column                 Non-Null Count  Dtype  \n",
      "---  ------                 --------------  -----  \n",
      " 0   Unnamed: 0             45376 non-null  int64  \n",
      " 1   belongs_to_collection  4381 non-null   object \n",
      " 2   budget                 45376 non-null  float64\n",
      " 3   genres                 45376 non-null  object \n",
      " 4   id                     45346 non-null  float64\n",
      " 5   original_language      45365 non-null  object \n",
      " 6   overview               44435 non-null  object \n",
      " 7   popularity             45376 non-null  float64\n",
      " 8   production_companies   45376 non-null  object \n",
      " 9   production_countries   45376 non-null  object \n",
      " 10  release_date           45376 non-null  object \n",
      " 11  revenue                45376 non-null  float64\n",
      " 12  runtime                45130 non-null  float64\n",
      " 13  spoken_languages       45376 non-null  object \n",
      " 14  status                 45296 non-null  object \n",
      " 15  tagline                20398 non-null  object \n",
      " 16  title                  45376 non-null  object \n",
      " 17  vote_average           45376 non-null  float64\n",
      " 18  vote_count             45376 non-null  float64\n",
      " 19  release_year           45376 non-null  int64  \n",
      " 20  return                 45376 non-null  float64\n",
      "dtypes: float64(8), int64(2), object(11)\n",
      "memory usage: 7.3+ MB\n"
     ]
    }
   ],
   "source": [
    "movies.info()"
   ]
  },
  {
   "attachments": {},
   "cell_type": "markdown",
   "metadata": {},
   "source": [
    "***Función 1:***\n",
    "\n",
    "def cantidad_filmaciones_mes( Mes ):\n",
    "\n",
    "Se ingresa un mes en idioma Español. \n",
    "\n",
    "Debe devolver la cantidad de películas que fueron estrenadas en el mes consultado en la totalidad del dataset.\n",
    "        \n",
    "        Ejemplo de retorno: X cantidad de películas fueron estrenadas en el mes de X"
   ]
  },
  {
   "cell_type": "code",
   "execution_count": 89,
   "metadata": {},
   "outputs": [],
   "source": [
    "def cantidad_filmaciones_mes(Mes):\n",
    "\n",
    "    # Convertir el mes a minúsculas y capitalizar la primera letra\n",
    "    Mes = Mes.lower().capitalize()\n",
    "\n",
    "    #Cargo el DF\n",
    "    movies = pd.read_csv('Movies ETL.csv', sep=',')\n",
    "\n",
    "    # Convertir la columna 'release_date' a tipo de dato datetime\n",
    "    movies['release_date'] = pd.to_datetime(movies['release_date'])\n",
    "\n",
    "    # Filtrar las películas que coinciden con el mes consultado. Para que reconozca los meses en Español tengo que usar el parámetro 'es_ES.utf8'.\n",
    "    filmaciones_mes = movies[movies['release_date'].dt.month_name() == Mes]\n",
    "    \n",
    "    # Obtener la cantidad de filmaciones en el mes\n",
    "    cantidad = len(filmaciones_mes)\n",
    "\n",
    "    return {'Mes': Mes, 'Cantidad de películas': cantidad}\n",
    "    #f'{cantidad} cantidad de películas fueron estrenadas en el mes de {Mes}'"
   ]
  },
  {
   "cell_type": "code",
   "execution_count": 90,
   "metadata": {},
   "outputs": [
    {
     "data": {
      "text/plain": [
       "{'Mes': 'Octubre', 'Cantidad de películas': 0}"
      ]
     },
     "execution_count": 90,
     "metadata": {},
     "output_type": "execute_result"
    }
   ],
   "source": [
    "cantidad_filmaciones_mes('octubre')"
   ]
  },
  {
   "attachments": {},
   "cell_type": "markdown",
   "metadata": {},
   "source": [
    "***Función 2***\n",
    "\n",
    "def cantidad_filmaciones_dia( Dia ): Se ingresa un día en idioma Español. Debe devolver la cantidad de películas que fueron estrenadas en día consultado en la totalidad del dataset.\n",
    "            \n",
    "        Ejemplo de retorno: X cantidad de películas fueron estrenadas en los días X"
   ]
  },
  {
   "cell_type": "code",
   "execution_count": 91,
   "metadata": {},
   "outputs": [],
   "source": [
    "def cantidad_filmaciones_dia( Dia ):\n",
    "   \n",
    "    # Convertir el mes a minúsculas y capitalizar la primera letra\n",
    "    Dia = Dia.lower().capitalize()\n",
    "\n",
    "    #Cargo el DF\n",
    "    movies = pd.read_csv('Movies ETL.csv', sep=',')\n",
    "\n",
    "    # Convertir la columna 'release_date' a tipo de dato datetime\n",
    "    movies['release_date'] = pd.to_datetime(movies['release_date'])\n",
    "\n",
    "    # Filtrar las películas que coinciden con el mes consultado. Para que reconozca los meses en Español tengo que usar el parámetro 'es_ES.utf8'.\n",
    "    filmaciones_dia = movies[movies['release_date'].dt.day_name(locale='es_ES.utf8') == Dia]\n",
    "    \n",
    "    # Obtener la cantidad de filmaciones en el mes\n",
    "    cantidad = len(filmaciones_dia)\n",
    "\n",
    "    return {'Día': Dia, 'Cantidad de películas': cantidad}\n",
    "    #f'{cantidad} cantidad de películas fueron estrenadas en el mes de {Dia}'"
   ]
  },
  {
   "cell_type": "code",
   "execution_count": 92,
   "metadata": {},
   "outputs": [
    {
     "data": {
      "text/plain": [
       "{'Día': 'Viernes', 'Cantidad de películas': 13908}"
      ]
     },
     "execution_count": 92,
     "metadata": {},
     "output_type": "execute_result"
    }
   ],
   "source": [
    "cantidad_filmaciones_dia('viernes')"
   ]
  },
  {
   "attachments": {},
   "cell_type": "markdown",
   "metadata": {},
   "source": [
    "***Función 3***\n",
    "\n",
    "def score_titulo( titulo_de_la_filmación ): \n",
    "\n",
    "Se ingresa el título de una filmación ['title']\n",
    "\n",
    "esperando como respuesta el título ['title'], el año de estreno ['release_year'] y el score ['popularity'].\n",
    "\n",
    "        Ejemplo de retorno: La película X fue estrenada en el año X con un score/popularidad de X"
   ]
  },
  {
   "cell_type": "code",
   "execution_count": 93,
   "metadata": {},
   "outputs": [],
   "source": [
    "import os"
   ]
  },
  {
   "cell_type": "code",
   "execution_count": 94,
   "metadata": {},
   "outputs": [],
   "source": [
    "# Obtener la ruta absoluta del archivo Movies ETL.csv\n",
    "file_path = os.path.abspath(\"Movies ETL.csv\")\n",
    "\n",
    "# Verificar si el archivo existe en la ruta proporcionada\n",
    "if os.path.exists(file_path):\n",
    "    movies = pd.read_csv(file_path, sep=',')"
   ]
  },
  {
   "cell_type": "code",
   "execution_count": 95,
   "metadata": {},
   "outputs": [],
   "source": [
    "def score_titulo(titulo_de_la_filmación):\n",
    "    \n",
    "    #Paso a minúscula para que luego coincida con los valores del Dataframe.\n",
    "    titulo_de_la_filmación = titulo_de_la_filmación.lower()\n",
    "\n",
    "    #cargo el DF\n",
    "    movies = pd.read_csv(\"Movies ETL.csv\", sep= ',')\n",
    "\n",
    "    #En el df movies, pasar todos los títulos a minúsculas \n",
    "    movies['title'] =  movies['title'].str.lower()\n",
    "\n",
    "    # Filtrar los datos por el título de la filmación\n",
    "    filtro = movies['title'] == titulo_de_la_filmación\n",
    "    pelicula = movies.loc[filtro]\n",
    "\n",
    "    # Verificar si se encontró alguna película con el título dado\n",
    "    if pelicula.empty:\n",
    "        return \"No se encontró ninguna película con ese título.\"\n",
    "\n",
    "    # Obtener el título, año de estreno y score de la película encontrada\n",
    "    titulo = pelicula['title'].values[0]\n",
    "    año_estreno = pelicula['release_year'].values[0]\n",
    "    score = pelicula['popularity'].values[0]    \n",
    "\n",
    "    return {'La película': titulo, 'fue estrenada en el año': año_estreno, 'con un score/popularidad de': score} \n"
   ]
  },
  {
   "cell_type": "code",
   "execution_count": 96,
   "metadata": {},
   "outputs": [
    {
     "data": {
      "text/plain": [
       "{'La película': 'jumanji',\n",
       " 'fue estrenada en el año': 1995,\n",
       " 'con un score/popularidad de': 17.015539}"
      ]
     },
     "execution_count": 96,
     "metadata": {},
     "output_type": "execute_result"
    }
   ],
   "source": [
    "score_titulo('jumanji')"
   ]
  },
  {
   "attachments": {},
   "cell_type": "markdown",
   "metadata": {},
   "source": [
    "***Función 4***\n",
    "\n",
    "def votos_titulo( titulo_de_la_filmación ): \n",
    "\n",
    "Se ingresa el título de una filmación \n",
    "\n",
    "esperando como respuesta el título ['title'], la cantidad de votos ['vote_count'] y el valor promedio de las votaciones ['vote_averange']. \n",
    "\n",
    "La misma variable deberá de contar con al menos 2000 valoraciones (['vote_count'] > 2000),\n",
    "        \n",
    "caso contrario, debemos contar con un mensaje avisando que no cumple esta condición y que por ende, no se devuelve ningun valor.\n",
    "\n",
    "        Ejemplo de retorno: La película X fue estrenada en el año X. La misma cuenta con un total de X valoraciones, con un promedio de X"
   ]
  },
  {
   "cell_type": "code",
   "execution_count": 97,
   "metadata": {},
   "outputs": [],
   "source": [
    "#Variable a asignar\n",
    "titulo_de_la_filmación = 'Grumpier Old Men'"
   ]
  },
  {
   "cell_type": "code",
   "execution_count": 98,
   "metadata": {},
   "outputs": [],
   "source": [
    "def votos_titulo( titulo_de_la_filmación ):\n",
    "    #Paso a minúscula para que luego coincida con los valores del Dataframe.\n",
    "    titulo_de_la_filmación = titulo_de_la_filmación.lower()\n",
    "\n",
    "    #cargo el DF\n",
    "    movies = pd.read_csv(\"Movies ETL.csv\", sep= ',')\n",
    "\n",
    "    #En el df movies, pasar todos los títulos a minúsculas \n",
    "    movies['title'] =  movies['title'].str.lower()\n",
    "\n",
    "\n",
    "    # Filtrar por título de la filmación\n",
    "    filtro_titulo = movies['title'] == titulo_de_la_filmación\n",
    "    pelicula = movies.loc[filtro_titulo]\n",
    "\n",
    "    # Verificar la cantidad de votos\n",
    "    if pelicula['vote_count'].values[0] > 2000:\n",
    "\n",
    "        # Obtener los valores requeridos\n",
    "        titulo = pelicula['title'].values[0]\n",
    "        votos = pelicula['vote_count'].values[0]\n",
    "        promedio = pelicula['vote_average'].values[0]\n",
    "\n",
    "        return {'La película': titulo, 'cuenta con un total de': votos, 'con un promedio de': promedio}\n",
    "\n",
    "    else:\n",
    "        #Mensaje si vote_count < 2000\n",
    "        return {'La película': 'no cuenta con al menos 2000 valoraciones'} \n"
   ]
  },
  {
   "cell_type": "code",
   "execution_count": 99,
   "metadata": {},
   "outputs": [
    {
     "data": {
      "text/plain": [
       "{'La película': 'jumanji',\n",
       " 'cuenta con un total de': 2413.0,\n",
       " 'con un promedio de': 6.9}"
      ]
     },
     "execution_count": 99,
     "metadata": {},
     "output_type": "execute_result"
    }
   ],
   "source": [
    "votos_titulo('Jumanji')"
   ]
  },
  {
   "cell_type": "code",
   "execution_count": 100,
   "metadata": {},
   "outputs": [],
   "source": [
    "#Paso a minúscula para que luego coincida con los valores del Dataframe.\n",
    "titulo_de_la_filmación = titulo_de_la_filmación.lower()\n",
    "\n",
    "#cargo el DF\n",
    "movies = pd.read_csv(\"Movies ETL.csv\", sep= ',')\n",
    "\n",
    "#En el df movies, pasar todos los títulos a minúsculas \n",
    "movies['title'] =  movies['title'].str.lower()\n",
    "\n"
   ]
  },
  {
   "cell_type": "code",
   "execution_count": 101,
   "metadata": {},
   "outputs": [
    {
     "data": {
      "text/html": [
       "<div>\n",
       "<style scoped>\n",
       "    .dataframe tbody tr th:only-of-type {\n",
       "        vertical-align: middle;\n",
       "    }\n",
       "\n",
       "    .dataframe tbody tr th {\n",
       "        vertical-align: top;\n",
       "    }\n",
       "\n",
       "    .dataframe thead th {\n",
       "        text-align: right;\n",
       "    }\n",
       "</style>\n",
       "<table border=\"1\" class=\"dataframe\">\n",
       "  <thead>\n",
       "    <tr style=\"text-align: right;\">\n",
       "      <th></th>\n",
       "      <th>Unnamed: 0</th>\n",
       "      <th>belongs_to_collection</th>\n",
       "      <th>budget</th>\n",
       "      <th>genres</th>\n",
       "      <th>id</th>\n",
       "      <th>original_language</th>\n",
       "      <th>overview</th>\n",
       "      <th>popularity</th>\n",
       "      <th>production_companies</th>\n",
       "      <th>production_countries</th>\n",
       "      <th>...</th>\n",
       "      <th>revenue</th>\n",
       "      <th>runtime</th>\n",
       "      <th>spoken_languages</th>\n",
       "      <th>status</th>\n",
       "      <th>tagline</th>\n",
       "      <th>title</th>\n",
       "      <th>vote_average</th>\n",
       "      <th>vote_count</th>\n",
       "      <th>release_year</th>\n",
       "      <th>return</th>\n",
       "    </tr>\n",
       "  </thead>\n",
       "  <tbody>\n",
       "    <tr>\n",
       "      <th>2</th>\n",
       "      <td>2</td>\n",
       "      <td>Grumpy Old Men Collection</td>\n",
       "      <td>0.0</td>\n",
       "      <td>['Romance', 'Comedy']</td>\n",
       "      <td>15602.0</td>\n",
       "      <td>en</td>\n",
       "      <td>A family wedding reignites the ancient feud be...</td>\n",
       "      <td>11.7129</td>\n",
       "      <td>['Warner Bros.', 'Lancaster Gate']</td>\n",
       "      <td>['US']</td>\n",
       "      <td>...</td>\n",
       "      <td>0.0</td>\n",
       "      <td>101.0</td>\n",
       "      <td>['en']</td>\n",
       "      <td>Released</td>\n",
       "      <td>Still Yelling. Still Fighting. Still Ready for...</td>\n",
       "      <td>grumpier old men</td>\n",
       "      <td>6.5</td>\n",
       "      <td>92.0</td>\n",
       "      <td>1995</td>\n",
       "      <td>0.0</td>\n",
       "    </tr>\n",
       "  </tbody>\n",
       "</table>\n",
       "<p>1 rows × 21 columns</p>\n",
       "</div>"
      ],
      "text/plain": [
       "   Unnamed: 0      belongs_to_collection  budget                 genres  \\\n",
       "2           2  Grumpy Old Men Collection     0.0  ['Romance', 'Comedy']   \n",
       "\n",
       "        id original_language  \\\n",
       "2  15602.0                en   \n",
       "\n",
       "                                            overview  popularity  \\\n",
       "2  A family wedding reignites the ancient feud be...     11.7129   \n",
       "\n",
       "                 production_companies production_countries  ... revenue  \\\n",
       "2  ['Warner Bros.', 'Lancaster Gate']               ['US']  ...     0.0   \n",
       "\n",
       "   runtime  spoken_languages    status  \\\n",
       "2    101.0            ['en']  Released   \n",
       "\n",
       "                                             tagline             title  \\\n",
       "2  Still Yelling. Still Fighting. Still Ready for...  grumpier old men   \n",
       "\n",
       "  vote_average  vote_count  release_year  return  \n",
       "2          6.5        92.0          1995     0.0  \n",
       "\n",
       "[1 rows x 21 columns]"
      ]
     },
     "execution_count": 101,
     "metadata": {},
     "output_type": "execute_result"
    }
   ],
   "source": [
    "# Filtrar por título de la filmación\n",
    "filtro_titulo = movies['title'] == titulo_de_la_filmación\n",
    "pelicula = movies.loc[filtro_titulo]\n",
    "\n",
    "pelicula"
   ]
  },
  {
   "cell_type": "code",
   "execution_count": 102,
   "metadata": {},
   "outputs": [
    {
     "name": "stdout",
     "output_type": "stream",
     "text": [
      "La película no cuenta con al menos 2000 valoraciones\n"
     ]
    }
   ],
   "source": [
    "# Verificar la cantidad de votos\n",
    "if pelicula['vote_count'].values[0] > 2000:\n",
    "\n",
    "    # Obtener los valores requeridos\n",
    "    titulo = pelicula['title'].values[0]\n",
    "    votos = pelicula['vote_count'].values[0]\n",
    "    promedio = pelicula['vote_average'].values[0]\n",
    "\n",
    "    print(f\"La película {titulo} cuenta con un total de {votos} valoraciones, con un promedio de {promedio}\")\n",
    "\n",
    "else:\n",
    "    #Mensaje si vote_count < 2000\n",
    "    print(f'La película no cuenta con al menos 2000 valoraciones')"
   ]
  },
  {
   "attachments": {},
   "cell_type": "markdown",
   "metadata": {},
   "source": [
    "***Función 5***\n",
    "\n",
    "def get_actor( nombre_actor ): \n",
    "\n",
    "Se ingresa el nombre de un actor que se encuentre dentro de un dataset \n",
    "\n",
    "debiendo devolver el éxito del mismo medido a través del retorno. (sum['return'])\n",
    "\n",
    "Además, la cantidad de películas que en las que ha participado (countdifferent['id']) y el promedio de retorno (avg['return']). \n",
    "\n",
    "La definición no deberá considerar directores.\n",
    "\n",
    "        Ejemplo de retorno: El actor X ha participado de X cantidad de filmaciones, el mismo ha conseguido un retorno de X con un promedio de X por filmación"
   ]
  },
  {
   "cell_type": "code",
   "execution_count": 110,
   "metadata": {},
   "outputs": [],
   "source": [
    "#Esta función trabaja bien localmente pero consume mucha memoria. Por ende, cuando lo levanto en Render, tira error 502.\n",
    "#En la celda siguiente, hago una prueba para optimizarlo.\n",
    "\n",
    "def get_actor( nombre_actor ):\n",
    "    #convierto la variable a minúsculas para independizarme de la forma en que el usuario escribe el nombre\n",
    "    nombre_actor = nombre_actor.lower()\n",
    "\n",
    "    #Tengo que unir Movies ETL.csv y Cast.csv a través de id\n",
    "    df_cast = pd.merge(movies, cast, on='id')\n",
    "\n",
    "    #Creo un DF con los datos que necesito\n",
    "    get_actor = pd.DataFrame(data= df_cast, columns=['cast_name', 'id', 'return'])\n",
    "\n",
    "    #Filtro el DF por el nombre que ingresó el usario\n",
    "    get_actor = get_actor[get_actor['cast_name'] == nombre_actor]\n",
    "\n",
    "    #Hago los cálculos\n",
    "    count = get_actor['id'].count() #Cuento la cantidad de películas en la que participó el actor.\n",
    "    total_return = get_actor['return'].sum() #Éxito del actor, medido por la suma del retorno\n",
    "    avg_return = get_actor['return'].mean() #Se incluye también el retorno promedioen función de las películas en las que actuó.\n",
    "\n",
    "    return {'El actor': nombre_actor, 'ha participado de': count, 'filmaciones. Ha conseguido un retorno de': total_return, 'con un promedio por película de': avg_return} \n"
   ]
  },
  {
   "cell_type": "code",
   "execution_count": 111,
   "metadata": {},
   "outputs": [
    {
     "data": {
      "text/plain": [
       "{'El actor': 'tom hanks',\n",
       " 'ha participado de': 72,\n",
       " 'filmaciones. Ha conseguido un retorno de': 178.8494960552024,\n",
       " 'con un promedio por película de': 2.484020778544478}"
      ]
     },
     "execution_count": 111,
     "metadata": {},
     "output_type": "execute_result"
    }
   ],
   "source": [
    "get_actor('tom hanks')"
   ]
  },
  {
   "attachments": {},
   "cell_type": "markdown",
   "metadata": {},
   "source": [
    "ESTAS SON LAS PRUEBAS, LÍNEA POR LÍNEA DE LA FUNCIÓN DE get_actor"
   ]
  },
  {
   "cell_type": "code",
   "execution_count": 20,
   "metadata": {},
   "outputs": [],
   "source": [
    "nombre_actor = 'Tom Hanks'"
   ]
  },
  {
   "cell_type": "code",
   "execution_count": 21,
   "metadata": {},
   "outputs": [],
   "source": [
    "#convierto la variable a minúsculas para independizarme de la forma en que el usuario escribe el nombre\n",
    "nombre_actor = nombre_actor.lower()"
   ]
  },
  {
   "cell_type": "code",
   "execution_count": 27,
   "metadata": {},
   "outputs": [
    {
     "data": {
      "text/plain": [
       "(564691, 24)"
      ]
     },
     "execution_count": 27,
     "metadata": {},
     "output_type": "execute_result"
    }
   ],
   "source": [
    "#Tengo que unir Movies ETL.csv y Cast.csv a través de id\n",
    "df_cast = pd.merge(movies, cast, on='id')\n",
    "df_cast.shape"
   ]
  },
  {
   "cell_type": "code",
   "execution_count": 23,
   "metadata": {},
   "outputs": [],
   "source": [
    "#Convierto los valores de la columna cast_name a minúscula.\n",
    "df_cast['cast_name'] =  df_cast['cast_name'].str.lower()"
   ]
  },
  {
   "cell_type": "code",
   "execution_count": 24,
   "metadata": {},
   "outputs": [],
   "source": [
    "#Creo un DF con los datos que necesito\n",
    "get_actor = pd.DataFrame(data= df_cast, columns=['cast_name', 'id', 'return'])"
   ]
  },
  {
   "cell_type": "code",
   "execution_count": 25,
   "metadata": {},
   "outputs": [],
   "source": [
    "#Filtro el DF por el nombre que el usuario puso\n",
    "get_actor = get_actor[get_actor['cast_name'] == nombre_actor]"
   ]
  },
  {
   "cell_type": "code",
   "execution_count": 26,
   "metadata": {},
   "outputs": [
    {
     "data": {
      "text/html": [
       "<div>\n",
       "<style scoped>\n",
       "    .dataframe tbody tr th:only-of-type {\n",
       "        vertical-align: middle;\n",
       "    }\n",
       "\n",
       "    .dataframe tbody tr th {\n",
       "        vertical-align: top;\n",
       "    }\n",
       "\n",
       "    .dataframe thead th {\n",
       "        text-align: right;\n",
       "    }\n",
       "</style>\n",
       "<table border=\"1\" class=\"dataframe\">\n",
       "  <thead>\n",
       "    <tr style=\"text-align: right;\">\n",
       "      <th></th>\n",
       "      <th>cast_name</th>\n",
       "      <th>id</th>\n",
       "      <th>return</th>\n",
       "    </tr>\n",
       "  </thead>\n",
       "  <tbody>\n",
       "    <tr>\n",
       "      <th>0</th>\n",
       "      <td>tom hanks</td>\n",
       "      <td>862.0</td>\n",
       "      <td>12.451801</td>\n",
       "    </tr>\n",
       "    <tr>\n",
       "      <th>2394</th>\n",
       "      <td>tom hanks</td>\n",
       "      <td>568.0</td>\n",
       "      <td>6.831499</td>\n",
       "    </tr>\n",
       "    <tr>\n",
       "      <th>5861</th>\n",
       "      <td>tom hanks</td>\n",
       "      <td>13.0</td>\n",
       "      <td>12.326280</td>\n",
       "    </tr>\n",
       "    <tr>\n",
       "      <th>8493</th>\n",
       "      <td>tom hanks</td>\n",
       "      <td>9800.0</td>\n",
       "      <td>7.949171</td>\n",
       "    </tr>\n",
       "    <tr>\n",
       "      <th>9087</th>\n",
       "      <td>tom hanks</td>\n",
       "      <td>858.0</td>\n",
       "      <td>10.847614</td>\n",
       "    </tr>\n",
       "  </tbody>\n",
       "</table>\n",
       "</div>"
      ],
      "text/plain": [
       "      cast_name      id     return\n",
       "0     tom hanks   862.0  12.451801\n",
       "2394  tom hanks   568.0   6.831499\n",
       "5861  tom hanks    13.0  12.326280\n",
       "8493  tom hanks  9800.0   7.949171\n",
       "9087  tom hanks   858.0  10.847614"
      ]
     },
     "execution_count": 26,
     "metadata": {},
     "output_type": "execute_result"
    }
   ],
   "source": [
    "get_actor.head()"
   ]
  },
  {
   "cell_type": "code",
   "execution_count": 27,
   "metadata": {},
   "outputs": [
    {
     "data": {
      "text/plain": [
       "72"
      ]
     },
     "execution_count": 27,
     "metadata": {},
     "output_type": "execute_result"
    }
   ],
   "source": [
    "count = get_actor['id'].count()\n",
    "count"
   ]
  },
  {
   "cell_type": "code",
   "execution_count": 28,
   "metadata": {},
   "outputs": [
    {
     "data": {
      "text/plain": [
       "178.8494960552024"
      ]
     },
     "execution_count": 28,
     "metadata": {},
     "output_type": "execute_result"
    }
   ],
   "source": [
    "total_return = get_actor['return'].sum()\n",
    "total_return"
   ]
  },
  {
   "cell_type": "code",
   "execution_count": 29,
   "metadata": {},
   "outputs": [
    {
     "data": {
      "text/plain": [
       "2.484020778544478"
      ]
     },
     "execution_count": 29,
     "metadata": {},
     "output_type": "execute_result"
    }
   ],
   "source": [
    "avg_return = get_actor['return'].mean()\n",
    "avg_return"
   ]
  },
  {
   "attachments": {},
   "cell_type": "markdown",
   "metadata": {},
   "source": [
    "***Función 6***\n",
    "\n",
    "def get_director( nombre_director ):\n",
    "\n",
    "Se ingresa el nombre de un director que se encuentre dentro de un dataset ['crew_name']\n",
    "\n",
    "debiendo devolver el éxito del mismo medido a través del retorno. ['return'].sum()\n",
    "\n",
    "Además, deberá devolver el nombre de cada película ['title'] con la fecha de lanzamiento ['release_date'], retorno individual ['return'], costo ['budget'] y ganancia ['revenue'] de la misma.\n",
    "\n",
    "**En este caso, tiene que devolver un DF con las columnas: 'director', 'total_return' (este valor se repetirá en todas las filas), 'title', 'release_date', 'return', 'budget', 'revenue'**"
   ]
  },
  {
   "cell_type": "code",
   "execution_count": 41,
   "metadata": {},
   "outputs": [],
   "source": [
    "def get_director( nombre_director ):\n",
    "\n",
    "    #convierto la variable a minúsculas para independizarme de la forma en que el usuario escribe el nombre\n",
    "    nombre_director = nombre_director.lower()\n",
    "\n",
    "    #Tengo que unir Movies ETL.csv y Director.csv a través de id\n",
    "    df_director = pd.merge(movies, director, on='id')\n",
    "\n",
    "    #Convierto los valores de la columna cast_name a minúscula.\n",
    "    df_director['crew_name'] =  df_director['crew_name'].str.lower()\n",
    "\n",
    "    #Creo un DF con los datos que necesito\n",
    "    get_director = pd.DataFrame(data= df_director, columns=['id', 'crew_name' , 'title', 'release_date', 'return', 'budget', 'revenue'])\n",
    "\n",
    "    #Filtro el DF por el nombre que el usuario puso\n",
    "    get_director = get_director[get_director['crew_name'] == nombre_director]\n",
    "\n",
    "    #Sumo el total_return\n",
    "    dir_total_return = get_director['return'].sum()\n",
    "\n",
    "    #Agrego al df la columna con el total_return\n",
    "    get_director['director_total_return'] = get_director['return'].sum()\n",
    "\n",
    "    #Devuelvo el return total y una tabla con el detalle de cada película\n",
    "    #return get_director\n",
    "    return {\"El director\": nombre_director, 'ha conseguido un retorno total de': dir_total_return, \n",
    "            \"A continuación se muestra un detalle de todas las películas que digrigió:\": get_director[['title', 'release_date', 'return', 'budget', 'revenue']]}\n",
    "\n",
    "    "
   ]
  },
  {
   "cell_type": "code",
   "execution_count": 42,
   "metadata": {},
   "outputs": [
    {
     "data": {
      "text/plain": [
       "{'El director': 'steven spielberg',\n",
       " 'ha conseguido un retorno total de': 309.9980864877447,\n",
       " 'A continuación se muestra un detalle de todas las películas que digrigió:':                                                    title release_date  \\\n",
       " 491                                        jurassic park   1993-06-11   \n",
       " 541                                     schindler's list   1993-11-29   \n",
       " 1124                          e.t. the extra-terrestrial   1982-04-03   \n",
       " 1224                             raiders of the lost ark   1981-06-12   \n",
       " 1325                  indiana jones and the last crusade   1989-05-24   \n",
       " 1421                                                jaws   1975-06-18   \n",
       " 1561                       the lost world: jurassic park   1997-05-23   \n",
       " 1702                                             amistad   1997-12-03   \n",
       " 2019                                 saving private ryan   1998-07-24   \n",
       " 2126                indiana jones and the temple of doom   1984-05-23   \n",
       " 2772                                    the color purple   1985-12-18   \n",
       " 3554                  close encounters of the third kind   1977-11-16   \n",
       " 3573                                                hook   1991-12-11   \n",
       " 3834                               the sugarland express   1974-04-05   \n",
       " 4222                                   empire of the sun   1987-12-09   \n",
       " 4506                        a.i. artificial intelligence   2001-06-29   \n",
       " 4706                                              always   1989-12-22   \n",
       " 5619                                     minority report   2002-06-20   \n",
       " 6191                                 catch me if you can   2002-12-25   \n",
       " 7353                                                1941   1979-12-13   \n",
       " 8293                                        the terminal   2004-06-17   \n",
       " 9179                                                duel   1972-10-01   \n",
       " 9353                            twilight zone: the movie   1983-06-24   \n",
       " 10796                                  war of the worlds   2005-06-28   \n",
       " 11296                                             munich   2005-12-22   \n",
       " 13469  indiana jones and the kingdom of the crystal s...   2008-05-21   \n",
       " 19458                           the adventures of tintin   2011-10-25   \n",
       " 19545                                          war horse   2011-12-25   \n",
       " 21349                                            lincoln   2012-11-09   \n",
       " 24978                                      night gallery   1969-04-03   \n",
       " 36077                                    bridge of spies   2015-10-15   \n",
       " 41783                                            the bfg   2016-06-01   \n",
       " 43434                                     something evil   1972-01-21   \n",
       " \n",
       "           return       budget      revenue  \n",
       " 491    14.604762   63000000.0  920100000.0  \n",
       " 541    14.607526   22000000.0  321365567.0  \n",
       " 1124   75.520507   10500000.0  792965326.0  \n",
       " 1224   21.662554   18000000.0  389925971.0  \n",
       " 1325    9.878579   48000000.0  474171806.0  \n",
       " 1421   67.236286    7000000.0  470654000.0  \n",
       " 1561    3.138007   73000000.0  229074524.0  \n",
       " 1702    2.055556   36000000.0   74000000.0  \n",
       " 2019    6.883442   70000000.0  481840909.0  \n",
       " 2126   11.892857   28000000.0  333000000.0  \n",
       " 2772    9.752801   15000000.0  146292009.0  \n",
       " 3554   15.189432   20000000.0  303788635.0  \n",
       " 3573    4.297926   70000000.0  300854823.0  \n",
       " 3834    4.266667    3000000.0   12800000.0  \n",
       " 4222    0.635391   35000000.0   22238696.0  \n",
       " 4506    2.359266  100000000.0  235926552.0  \n",
       " 4706    2.391445   31000000.0   74134790.0  \n",
       " 5619    3.513460  102000000.0  358372926.0  \n",
       " 6191    6.771429   52000000.0  352114312.0  \n",
       " 7353    0.907307   35000000.0   31755742.0  \n",
       " 8293    3.656954   60000000.0  219417255.0  \n",
       " 9179    0.000000     450000.0          0.0  \n",
       " 9353    2.945092   10000000.0   29450919.0  \n",
       " 10796   4.482874  132000000.0  591739379.0  \n",
       " 11296   1.862270   70000000.0  130358911.0  \n",
       " 13469   4.252087  185000000.0  786636033.0  \n",
       " 19458   2.861077  130000000.0  371940071.0  \n",
       " 19545   2.690680   66000000.0  177584879.0  \n",
       " 21349   4.235284   65000000.0  275293450.0  \n",
       " 24978   0.000000          0.0          0.0  \n",
       " 36077   4.136959   40000000.0  165478348.0  \n",
       " 41783   1.309611  140000000.0  183345589.0  \n",
       " 43434   0.000000          0.0          0.0  }"
      ]
     },
     "execution_count": 42,
     "metadata": {},
     "output_type": "execute_result"
    }
   ],
   "source": [
    "get_director('Steven Spielberg')"
   ]
  },
  {
   "cell_type": "code",
   "execution_count": 32,
   "metadata": {},
   "outputs": [],
   "source": [
    "nombre_director = 'John Lasseter'"
   ]
  },
  {
   "cell_type": "code",
   "execution_count": 33,
   "metadata": {},
   "outputs": [],
   "source": [
    "#convierto la variable a minúsculas para independizarme de la forma en que el usuario escribe el nombre\n",
    "nombre_director = nombre_director.lower()"
   ]
  },
  {
   "cell_type": "code",
   "execution_count": 34,
   "metadata": {},
   "outputs": [
    {
     "data": {
      "text/html": [
       "<div>\n",
       "<style scoped>\n",
       "    .dataframe tbody tr th:only-of-type {\n",
       "        vertical-align: middle;\n",
       "    }\n",
       "\n",
       "    .dataframe tbody tr th {\n",
       "        vertical-align: top;\n",
       "    }\n",
       "\n",
       "    .dataframe thead th {\n",
       "        text-align: right;\n",
       "    }\n",
       "</style>\n",
       "<table border=\"1\" class=\"dataframe\">\n",
       "  <thead>\n",
       "    <tr style=\"text-align: right;\">\n",
       "      <th></th>\n",
       "      <th>Unnamed: 0_x</th>\n",
       "      <th>belongs_to_collection</th>\n",
       "      <th>budget</th>\n",
       "      <th>genres</th>\n",
       "      <th>id</th>\n",
       "      <th>original_language</th>\n",
       "      <th>overview</th>\n",
       "      <th>popularity</th>\n",
       "      <th>production_companies</th>\n",
       "      <th>production_countries</th>\n",
       "      <th>...</th>\n",
       "      <th>status</th>\n",
       "      <th>tagline</th>\n",
       "      <th>title</th>\n",
       "      <th>vote_average</th>\n",
       "      <th>vote_count</th>\n",
       "      <th>release_year</th>\n",
       "      <th>return</th>\n",
       "      <th>Unnamed: 0_y</th>\n",
       "      <th>crew_job</th>\n",
       "      <th>crew_name</th>\n",
       "    </tr>\n",
       "  </thead>\n",
       "  <tbody>\n",
       "    <tr>\n",
       "      <th>0</th>\n",
       "      <td>0</td>\n",
       "      <td>Toy Story Collection</td>\n",
       "      <td>30000000.0</td>\n",
       "      <td>['Animation', 'Comedy', 'Family']</td>\n",
       "      <td>862.0</td>\n",
       "      <td>en</td>\n",
       "      <td>Led by Woody, Andy's toys live happily in his ...</td>\n",
       "      <td>21.946943</td>\n",
       "      <td>['Pixar Animation Studios']</td>\n",
       "      <td>['US']</td>\n",
       "      <td>...</td>\n",
       "      <td>Released</td>\n",
       "      <td>NaN</td>\n",
       "      <td>toy story</td>\n",
       "      <td>7.7</td>\n",
       "      <td>5415.0</td>\n",
       "      <td>1995</td>\n",
       "      <td>12.451801</td>\n",
       "      <td>0</td>\n",
       "      <td>Director</td>\n",
       "      <td>John Lasseter</td>\n",
       "    </tr>\n",
       "    <tr>\n",
       "      <th>1</th>\n",
       "      <td>1</td>\n",
       "      <td>NaN</td>\n",
       "      <td>65000000.0</td>\n",
       "      <td>['Adventure', 'Fantasy', 'Family']</td>\n",
       "      <td>8844.0</td>\n",
       "      <td>en</td>\n",
       "      <td>When siblings Judy and Peter discover an encha...</td>\n",
       "      <td>17.015539</td>\n",
       "      <td>['TriStar Pictures', 'Teitler Film', 'Intersco...</td>\n",
       "      <td>['US']</td>\n",
       "      <td>...</td>\n",
       "      <td>Released</td>\n",
       "      <td>Roll the dice and unleash the excitement!</td>\n",
       "      <td>jumanji</td>\n",
       "      <td>6.9</td>\n",
       "      <td>2413.0</td>\n",
       "      <td>1995</td>\n",
       "      <td>4.043035</td>\n",
       "      <td>1</td>\n",
       "      <td>Director</td>\n",
       "      <td>Joe Johnston</td>\n",
       "    </tr>\n",
       "  </tbody>\n",
       "</table>\n",
       "<p>2 rows × 24 columns</p>\n",
       "</div>"
      ],
      "text/plain": [
       "   Unnamed: 0_x belongs_to_collection      budget  \\\n",
       "0             0  Toy Story Collection  30000000.0   \n",
       "1             1                   NaN  65000000.0   \n",
       "\n",
       "                               genres      id original_language  \\\n",
       "0   ['Animation', 'Comedy', 'Family']   862.0                en   \n",
       "1  ['Adventure', 'Fantasy', 'Family']  8844.0                en   \n",
       "\n",
       "                                            overview  popularity  \\\n",
       "0  Led by Woody, Andy's toys live happily in his ...   21.946943   \n",
       "1  When siblings Judy and Peter discover an encha...   17.015539   \n",
       "\n",
       "                                production_companies production_countries  \\\n",
       "0                        ['Pixar Animation Studios']               ['US']   \n",
       "1  ['TriStar Pictures', 'Teitler Film', 'Intersco...               ['US']   \n",
       "\n",
       "   ...    status                                    tagline      title  \\\n",
       "0  ...  Released                                        NaN  toy story   \n",
       "1  ...  Released  Roll the dice and unleash the excitement!    jumanji   \n",
       "\n",
       "  vote_average vote_count release_year     return  Unnamed: 0_y  crew_job  \\\n",
       "0          7.7     5415.0         1995  12.451801             0  Director   \n",
       "1          6.9     2413.0         1995   4.043035             1  Director   \n",
       "\n",
       "       crew_name  \n",
       "0  John Lasseter  \n",
       "1   Joe Johnston  \n",
       "\n",
       "[2 rows x 24 columns]"
      ]
     },
     "execution_count": 34,
     "metadata": {},
     "output_type": "execute_result"
    }
   ],
   "source": [
    "#Tengo que unir Movies ETL.csv y Director.csv a través de id\n",
    "df_director = pd.merge(movies, director, on='id')\n",
    "df_director.head(2)"
   ]
  },
  {
   "cell_type": "code",
   "execution_count": 35,
   "metadata": {},
   "outputs": [],
   "source": [
    "#Convierto los valores de la columna cast_name a minúscula.\n",
    "df_director['crew_name'] =  df_director['crew_name'].str.lower()"
   ]
  },
  {
   "cell_type": "code",
   "execution_count": 36,
   "metadata": {},
   "outputs": [
    {
     "data": {
      "text/html": [
       "<div>\n",
       "<style scoped>\n",
       "    .dataframe tbody tr th:only-of-type {\n",
       "        vertical-align: middle;\n",
       "    }\n",
       "\n",
       "    .dataframe tbody tr th {\n",
       "        vertical-align: top;\n",
       "    }\n",
       "\n",
       "    .dataframe thead th {\n",
       "        text-align: right;\n",
       "    }\n",
       "</style>\n",
       "<table border=\"1\" class=\"dataframe\">\n",
       "  <thead>\n",
       "    <tr style=\"text-align: right;\">\n",
       "      <th></th>\n",
       "      <th>id</th>\n",
       "      <th>crew_name</th>\n",
       "      <th>title</th>\n",
       "      <th>release_date</th>\n",
       "      <th>return</th>\n",
       "      <th>budget</th>\n",
       "      <th>revenue</th>\n",
       "    </tr>\n",
       "  </thead>\n",
       "  <tbody>\n",
       "    <tr>\n",
       "      <th>0</th>\n",
       "      <td>862.0</td>\n",
       "      <td>john lasseter</td>\n",
       "      <td>toy story</td>\n",
       "      <td>1995-10-30</td>\n",
       "      <td>12.451801</td>\n",
       "      <td>30000000.0</td>\n",
       "      <td>373554033.0</td>\n",
       "    </tr>\n",
       "    <tr>\n",
       "      <th>1</th>\n",
       "      <td>8844.0</td>\n",
       "      <td>joe johnston</td>\n",
       "      <td>jumanji</td>\n",
       "      <td>1995-12-15</td>\n",
       "      <td>4.043035</td>\n",
       "      <td>65000000.0</td>\n",
       "      <td>262797249.0</td>\n",
       "    </tr>\n",
       "    <tr>\n",
       "      <th>2</th>\n",
       "      <td>15602.0</td>\n",
       "      <td>howard deutch</td>\n",
       "      <td>grumpier old men</td>\n",
       "      <td>1995-12-22</td>\n",
       "      <td>0.000000</td>\n",
       "      <td>0.0</td>\n",
       "      <td>0.0</td>\n",
       "    </tr>\n",
       "    <tr>\n",
       "      <th>3</th>\n",
       "      <td>31357.0</td>\n",
       "      <td>forest whitaker</td>\n",
       "      <td>waiting to exhale</td>\n",
       "      <td>1995-12-22</td>\n",
       "      <td>5.090760</td>\n",
       "      <td>16000000.0</td>\n",
       "      <td>81452156.0</td>\n",
       "    </tr>\n",
       "    <tr>\n",
       "      <th>4</th>\n",
       "      <td>11862.0</td>\n",
       "      <td>charles shyer</td>\n",
       "      <td>father of the bride part ii</td>\n",
       "      <td>1995-02-10</td>\n",
       "      <td>0.000000</td>\n",
       "      <td>0.0</td>\n",
       "      <td>76578911.0</td>\n",
       "    </tr>\n",
       "    <tr>\n",
       "      <th>...</th>\n",
       "      <td>...</td>\n",
       "      <td>...</td>\n",
       "      <td>...</td>\n",
       "      <td>...</td>\n",
       "      <td>...</td>\n",
       "      <td>...</td>\n",
       "      <td>...</td>\n",
       "    </tr>\n",
       "    <tr>\n",
       "      <th>49001</th>\n",
       "      <td>30840.0</td>\n",
       "      <td>john irvin</td>\n",
       "      <td>robin hood</td>\n",
       "      <td>1991-05-13</td>\n",
       "      <td>0.000000</td>\n",
       "      <td>0.0</td>\n",
       "      <td>0.0</td>\n",
       "    </tr>\n",
       "    <tr>\n",
       "      <th>49002</th>\n",
       "      <td>111109.0</td>\n",
       "      <td>lav diaz</td>\n",
       "      <td>century of birthing</td>\n",
       "      <td>2011-11-17</td>\n",
       "      <td>0.000000</td>\n",
       "      <td>0.0</td>\n",
       "      <td>0.0</td>\n",
       "    </tr>\n",
       "    <tr>\n",
       "      <th>49003</th>\n",
       "      <td>67758.0</td>\n",
       "      <td>mark l. lester</td>\n",
       "      <td>betrayal</td>\n",
       "      <td>2003-08-01</td>\n",
       "      <td>0.000000</td>\n",
       "      <td>0.0</td>\n",
       "      <td>0.0</td>\n",
       "    </tr>\n",
       "    <tr>\n",
       "      <th>49004</th>\n",
       "      <td>227506.0</td>\n",
       "      <td>yakov protazanov</td>\n",
       "      <td>satan triumphant</td>\n",
       "      <td>1917-10-21</td>\n",
       "      <td>0.000000</td>\n",
       "      <td>0.0</td>\n",
       "      <td>0.0</td>\n",
       "    </tr>\n",
       "    <tr>\n",
       "      <th>49005</th>\n",
       "      <td>461257.0</td>\n",
       "      <td>daisy asquith</td>\n",
       "      <td>queerama</td>\n",
       "      <td>2017-06-09</td>\n",
       "      <td>0.000000</td>\n",
       "      <td>0.0</td>\n",
       "      <td>0.0</td>\n",
       "    </tr>\n",
       "  </tbody>\n",
       "</table>\n",
       "<p>49006 rows × 7 columns</p>\n",
       "</div>"
      ],
      "text/plain": [
       "             id         crew_name                        title release_date  \\\n",
       "0         862.0     john lasseter                    toy story   1995-10-30   \n",
       "1        8844.0      joe johnston                      jumanji   1995-12-15   \n",
       "2       15602.0     howard deutch             grumpier old men   1995-12-22   \n",
       "3       31357.0   forest whitaker            waiting to exhale   1995-12-22   \n",
       "4       11862.0     charles shyer  father of the bride part ii   1995-02-10   \n",
       "...         ...               ...                          ...          ...   \n",
       "49001   30840.0        john irvin                   robin hood   1991-05-13   \n",
       "49002  111109.0          lav diaz          century of birthing   2011-11-17   \n",
       "49003   67758.0    mark l. lester                     betrayal   2003-08-01   \n",
       "49004  227506.0  yakov protazanov             satan triumphant   1917-10-21   \n",
       "49005  461257.0     daisy asquith                     queerama   2017-06-09   \n",
       "\n",
       "          return      budget      revenue  \n",
       "0      12.451801  30000000.0  373554033.0  \n",
       "1       4.043035  65000000.0  262797249.0  \n",
       "2       0.000000         0.0          0.0  \n",
       "3       5.090760  16000000.0   81452156.0  \n",
       "4       0.000000         0.0   76578911.0  \n",
       "...          ...         ...          ...  \n",
       "49001   0.000000         0.0          0.0  \n",
       "49002   0.000000         0.0          0.0  \n",
       "49003   0.000000         0.0          0.0  \n",
       "49004   0.000000         0.0          0.0  \n",
       "49005   0.000000         0.0          0.0  \n",
       "\n",
       "[49006 rows x 7 columns]"
      ]
     },
     "execution_count": 36,
     "metadata": {},
     "output_type": "execute_result"
    }
   ],
   "source": [
    "#Creo un DF con los datos que necesito\n",
    "get_director = pd.DataFrame(data= df_director, columns=['id', 'crew_name' , 'title', 'release_date', 'return', 'budget', 'revenue'])\n",
    "get_director"
   ]
  },
  {
   "cell_type": "code",
   "execution_count": 37,
   "metadata": {},
   "outputs": [
    {
     "data": {
      "text/html": [
       "<div>\n",
       "<style scoped>\n",
       "    .dataframe tbody tr th:only-of-type {\n",
       "        vertical-align: middle;\n",
       "    }\n",
       "\n",
       "    .dataframe tbody tr th {\n",
       "        vertical-align: top;\n",
       "    }\n",
       "\n",
       "    .dataframe thead th {\n",
       "        text-align: right;\n",
       "    }\n",
       "</style>\n",
       "<table border=\"1\" class=\"dataframe\">\n",
       "  <thead>\n",
       "    <tr style=\"text-align: right;\">\n",
       "      <th></th>\n",
       "      <th>id</th>\n",
       "      <th>crew_name</th>\n",
       "      <th>title</th>\n",
       "      <th>release_date</th>\n",
       "      <th>return</th>\n",
       "      <th>budget</th>\n",
       "      <th>revenue</th>\n",
       "    </tr>\n",
       "  </thead>\n",
       "  <tbody>\n",
       "    <tr>\n",
       "      <th>0</th>\n",
       "      <td>862.0</td>\n",
       "      <td>john lasseter</td>\n",
       "      <td>toy story</td>\n",
       "      <td>1995-10-30</td>\n",
       "      <td>12.451801</td>\n",
       "      <td>30000000.0</td>\n",
       "      <td>373554033.0</td>\n",
       "    </tr>\n",
       "    <tr>\n",
       "      <th>2374</th>\n",
       "      <td>9487.0</td>\n",
       "      <td>john lasseter</td>\n",
       "      <td>a bug's life</td>\n",
       "      <td>1998-11-25</td>\n",
       "      <td>3.027157</td>\n",
       "      <td>120000000.0</td>\n",
       "      <td>363258859.0</td>\n",
       "    </tr>\n",
       "    <tr>\n",
       "      <th>3172</th>\n",
       "      <td>863.0</td>\n",
       "      <td>john lasseter</td>\n",
       "      <td>toy story 2</td>\n",
       "      <td>1999-10-30</td>\n",
       "      <td>5.526299</td>\n",
       "      <td>90000000.0</td>\n",
       "      <td>497366869.0</td>\n",
       "    </tr>\n",
       "    <tr>\n",
       "      <th>11314</th>\n",
       "      <td>13925.0</td>\n",
       "      <td>john lasseter</td>\n",
       "      <td>luxo jr.</td>\n",
       "      <td>1986-08-17</td>\n",
       "      <td>0.000000</td>\n",
       "      <td>0.0</td>\n",
       "      <td>0.0</td>\n",
       "    </tr>\n",
       "    <tr>\n",
       "      <th>11657</th>\n",
       "      <td>920.0</td>\n",
       "      <td>john lasseter</td>\n",
       "      <td>cars</td>\n",
       "      <td>2006-06-08</td>\n",
       "      <td>3.849860</td>\n",
       "      <td>120000000.0</td>\n",
       "      <td>461983149.0</td>\n",
       "    </tr>\n",
       "    <tr>\n",
       "      <th>18693</th>\n",
       "      <td>49013.0</td>\n",
       "      <td>john lasseter</td>\n",
       "      <td>cars 2</td>\n",
       "      <td>2011-06-11</td>\n",
       "      <td>2.799262</td>\n",
       "      <td>200000000.0</td>\n",
       "      <td>559852396.0</td>\n",
       "    </tr>\n",
       "    <tr>\n",
       "      <th>20598</th>\n",
       "      <td>13927.0</td>\n",
       "      <td>john lasseter</td>\n",
       "      <td>tin toy</td>\n",
       "      <td>1988-08-01</td>\n",
       "      <td>0.000000</td>\n",
       "      <td>0.0</td>\n",
       "      <td>0.0</td>\n",
       "    </tr>\n",
       "    <tr>\n",
       "      <th>20653</th>\n",
       "      <td>13926.0</td>\n",
       "      <td>john lasseter</td>\n",
       "      <td>red's dream</td>\n",
       "      <td>1987-08-17</td>\n",
       "      <td>0.000000</td>\n",
       "      <td>0.0</td>\n",
       "      <td>0.0</td>\n",
       "    </tr>\n",
       "    <tr>\n",
       "      <th>20700</th>\n",
       "      <td>13928.0</td>\n",
       "      <td>john lasseter</td>\n",
       "      <td>knick knack</td>\n",
       "      <td>1989-01-01</td>\n",
       "      <td>0.000000</td>\n",
       "      <td>0.0</td>\n",
       "      <td>0.0</td>\n",
       "    </tr>\n",
       "    <tr>\n",
       "      <th>24685</th>\n",
       "      <td>13934.0</td>\n",
       "      <td>john lasseter</td>\n",
       "      <td>mater and the ghostlight</td>\n",
       "      <td>2006-07-27</td>\n",
       "      <td>0.000000</td>\n",
       "      <td>0.0</td>\n",
       "      <td>0.0</td>\n",
       "    </tr>\n",
       "  </tbody>\n",
       "</table>\n",
       "</div>"
      ],
      "text/plain": [
       "            id      crew_name                     title release_date  \\\n",
       "0        862.0  john lasseter                 toy story   1995-10-30   \n",
       "2374    9487.0  john lasseter              a bug's life   1998-11-25   \n",
       "3172     863.0  john lasseter               toy story 2   1999-10-30   \n",
       "11314  13925.0  john lasseter                  luxo jr.   1986-08-17   \n",
       "11657    920.0  john lasseter                      cars   2006-06-08   \n",
       "18693  49013.0  john lasseter                    cars 2   2011-06-11   \n",
       "20598  13927.0  john lasseter                   tin toy   1988-08-01   \n",
       "20653  13926.0  john lasseter               red's dream   1987-08-17   \n",
       "20700  13928.0  john lasseter               knick knack   1989-01-01   \n",
       "24685  13934.0  john lasseter  mater and the ghostlight   2006-07-27   \n",
       "\n",
       "          return       budget      revenue  \n",
       "0      12.451801   30000000.0  373554033.0  \n",
       "2374    3.027157  120000000.0  363258859.0  \n",
       "3172    5.526299   90000000.0  497366869.0  \n",
       "11314   0.000000          0.0          0.0  \n",
       "11657   3.849860  120000000.0  461983149.0  \n",
       "18693   2.799262  200000000.0  559852396.0  \n",
       "20598   0.000000          0.0          0.0  \n",
       "20653   0.000000          0.0          0.0  \n",
       "20700   0.000000          0.0          0.0  \n",
       "24685   0.000000          0.0          0.0  "
      ]
     },
     "execution_count": 37,
     "metadata": {},
     "output_type": "execute_result"
    }
   ],
   "source": [
    "#Filtro el DF por el nombre que el usuario puso\n",
    "get_director = get_director[get_director['crew_name'] == nombre_director]\n",
    "get_director"
   ]
  },
  {
   "cell_type": "code",
   "execution_count": 38,
   "metadata": {},
   "outputs": [
    {
     "data": {
      "text/plain": [
       "27.65437835777778"
      ]
     },
     "execution_count": 38,
     "metadata": {},
     "output_type": "execute_result"
    }
   ],
   "source": [
    "#Sumo el total_return\n",
    "dir_total_return = get_director['return'].sum()\n",
    "dir_total_return"
   ]
  }
 ],
 "metadata": {
  "kernelspec": {
   "display_name": "Python 3",
   "language": "python",
   "name": "python3"
  },
  "language_info": {
   "codemirror_mode": {
    "name": "ipython",
    "version": 3
   },
   "file_extension": ".py",
   "mimetype": "text/x-python",
   "name": "python",
   "nbconvert_exporter": "python",
   "pygments_lexer": "ipython3",
   "version": "3.11.2"
  },
  "orig_nbformat": 4
 },
 "nbformat": 4,
 "nbformat_minor": 2
}
